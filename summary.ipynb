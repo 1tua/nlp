{
 "cells": [
  {
   "cell_type": "code",
   "execution_count": 6,
   "metadata": {},
   "outputs": [
    {
     "name": "stderr",
     "output_type": "stream",
     "text": [
      "Using TensorFlow backend.\n"
     ]
    }
   ],
   "source": [
    "import numpy as np  \n",
    "import pandas as pd \n",
    "import re           \n",
    "from bs4 import BeautifulSoup \n",
    "from keras.preprocessing.text import Tokenizer \n",
    "from keras.preprocessing.sequence import pad_sequences\n",
    "from nltk.corpus import stopwords\n",
    "import tensorflow as tf\n",
    "from tensorflow.python.keras.layers import Input, LSTM, Embedding, Dense, Concatenate, TimeDistributed, Bidirectional\n",
    "from tensorflow.python.keras.models import Model\n",
    "from tensorflow.python.keras.callbacks import EarlyStopping\n",
    "import warnings\n",
    "pd.set_option(\"display.max_colwidth\", 200)\n",
    "warnings.filterwarnings(\"ignore\")\n",
    "import numpy as np\n",
    "import pandas as pd\n",
    "import nltk\n",
    "import re"
   ]
  },
  {
   "cell_type": "code",
   "execution_count": 2,
   "metadata": {},
   "outputs": [],
   "source": [
    "with open('Insight.txt',encoding=\"utf8\") as f:\n",
    "    lines = f.readlines()\n",
    "    Insight_text = [item.replace(\"\\n\", \".\") for item in lines]"
   ]
  },
  {
   "cell_type": "code",
   "execution_count": 19,
   "metadata": {},
   "outputs": [],
   "source": [
    "import numpy as np\n",
    "import pandas as pd\n",
    "import nltk\n",
    "import re\n",
    "from nltk.tokenize import sent_tokenize\n",
    "from nltk.corpus import stopwords\n",
    "from gensim.models import Word2Vec\n",
    "from scipy import spatial\n",
    "import networkx as nx"
   ]
  },
  {
   "cell_type": "code",
   "execution_count": 73,
   "metadata": {},
   "outputs": [],
   "source": [
    "with open('Risky_Insight.txt',encoding=\"utf8\") as f:\n",
    "    lines = f.readlines()\n",
    "    Insight_text = [item.replace(\"\\n\", \".\") for item in lines]"
   ]
  },
  {
   "cell_type": "code",
   "execution_count": 74,
   "metadata": {},
   "outputs": [],
   "source": [
    "sentences=sent_tokenize(str(Insight_text))\n"
   ]
  },
  {
   "cell_type": "code",
   "execution_count": 75,
   "metadata": {},
   "outputs": [],
   "source": [
    "sentences_clean=[re.sub(r'[^\\w\\s]','',sentence.lower()) for sentence in sentences]\n",
    "stop_words = stopwords.words('english')\n",
    "sentence_tokens=[[words for words in sentence.split(' ') if words not in stop_words] for sentence in sentences_clean]"
   ]
  },
  {
   "cell_type": "code",
   "execution_count": 76,
   "metadata": {},
   "outputs": [],
   "source": [
    "w2v=Word2Vec(sentence_tokens,size=1,min_count=1,iter=1000)\n",
    "sentence_embeddings=[[w2v[word][0] for word in words] for words in sentence_tokens]\n",
    "max_len=max([len(tokens) for tokens in sentence_tokens])\n",
    "sentence_embeddings=[np.pad(embedding,(0,max_len-len(embedding)),'constant') for embedding in sentence_embeddings]"
   ]
  },
  {
   "cell_type": "code",
   "execution_count": 77,
   "metadata": {},
   "outputs": [],
   "source": [
    "similarity_matrix = np.zeros([len(sentence_tokens), len(sentence_tokens)])\n",
    "for i,row_embedding in enumerate(sentence_embeddings):\n",
    "    for j,column_embedding in enumerate(sentence_embeddings):\n",
    "        similarity_matrix[i][j]=1-spatial.distance.cosine(row_embedding,column_embedding)"
   ]
  },
  {
   "cell_type": "code",
   "execution_count": 78,
   "metadata": {},
   "outputs": [],
   "source": [
    "nx_graph = nx.from_numpy_array(similarity_matrix)\n",
    "scores = nx.pagerank(nx_graph)"
   ]
  },
  {
   "cell_type": "code",
   "execution_count": 81,
   "metadata": {},
   "outputs": [],
   "source": [
    "top_sentence={sentence:scores[index] for index,sentence in enumerate(sentences)}\n",
    "top=dict(sorted(top_sentence.items(), key=lambda x: x[1], reverse=True)[:10])"
   ]
  },
  {
   "cell_type": "code",
   "execution_count": 82,
   "metadata": {},
   "outputs": [
    {
     "name": "stdout",
     "output_type": "stream",
     "text": [
      "', '  If home-working is broadly neutral in its impact on our economic contribution, but positive for our welfare, this suggests it is win-win, or at worst draw-win.\n",
      "', ' The bad is that the same surveys suggest only around a quarter of the public believe the Bank explains its actions and decisions in ways they understand.\n",
      "Such is the uncertainty, it would be imprudent to make confident predictions about the shape of the recovery from here - which is one reason why, contrary to some commentary, I have not done so.\n",
      "', ' This filtering of good news, and accentuation of the bad, is a familiar pattern of human behaviour at times of stress and uncertainty.\n",
      "', ' Chart 26 shows the responsiveness of a selection of global asset prices to (positive and negative) trade news.\n",
      "So fundamental is this question to so much of social and economic history that, understandably, it has attracted huge amounts of empirical, historical, social and theoretical research.\n",
      "', ' 37  Having been less than 5,000 in 1920, the number of first degrees obtained at UK universities had increased to over 365,000 by 2016.\n",
      "', '15 Globally, the amount of QE undertaken during the crisis is already rapidly catching-up with the amount undertaken during the prior ten-year period.\n",
      "', '  17  Data refer to percentage of people in the census rating themselves in “bad” or “very bad” health.\n",
      "', ' Notes: Data show percentage of respondents declaring themselves to be in bad or very bad health at electoral ward level.\n",
      "', ' Some of these agglomeration benefits may themselves arise from having a diverse economic eco-system, as this enables positive spillovers between sectors and skills within an area.\n",
      "', ' Nonetheless, the positive impact of higher interest rates on aggregate productivity is significantly tempered by the bankruptcy of some high-leverage, high-productivity companies.\n",
      "', ' Confidence/risk aversion/uncertainty QE improves the economic outlook/reduces risk of bad outcomes (via any mechanism) Yes 6.\n",
      "', ' First,  managers would reject a positive-NPV project if that lowered earnings below quarterly consensus  expectations.\n",
      "', ' That is roughly £70 billion, or around the  amount of external capital UK banks raised during the crisis.\n",
      "', '  There is also evidence of them arising from coordination failures, which generate spillover effects  across banks and countries.\n",
      "', 'High bank ability and a good macro state increase the  probability of positive asset returns.\n",
      "', '   1  Blanchard and Milesi-Ferretti (2009) discuss the causes of “good” and “bad” imbalances.\n",
      "', '   1  Blanchard and Milesi-Ferretti (2009) discuss the causes of “good” and “bad” imbalances.\n",
      "', ' This amounts  to relating growth in GDP to growth in labour input and in various capital services (from  buildings, vehicles, computers and other resources).\n",
      "', '7  The resulting money amount is an estimate of the reduction in banks’  funding costs which arises from the perceived government subsidy.\n",
      "', '  13  the relationship is positively sloped, with size and diversity increasing income variability, not  smoothing it.\n",
      "', ' In other  words, there is both positive (at short horizons) and negative (at longer horizons)  serial correlation in market prices.\n",
      "', ' For while the flow of news over  the past year has been positive, some of the stock problems which were the root cause  of the crisis remain intact.\n",
      "', ' A network which, like the little girl with the curl,  when the going was good was very, very good – but when it turned bad was horrid.\n",
      "', ' There have been many examples of such  spillover during this crisis, with Lehman Brothers’ failure a particularly painful one.\n"
     ]
    }
   ],
   "source": [
    "for sent in sentences:\n",
    "    if sent in top.keys():\n",
    "        print(sent)"
   ]
  },
  {
   "cell_type": "code",
   "execution_count": null,
   "metadata": {},
   "outputs": [],
   "source": []
  },
  {
   "cell_type": "code",
   "execution_count": null,
   "metadata": {},
   "outputs": [],
   "source": []
  }
 ],
 "metadata": {
  "kernelspec": {
   "display_name": "Python (pythreeseven)",
   "language": "python",
   "name": "pythreeseven"
  },
  "language_info": {
   "codemirror_mode": {
    "name": "ipython",
    "version": 3
   },
   "file_extension": ".py",
   "mimetype": "text/x-python",
   "name": "python",
   "nbconvert_exporter": "python",
   "pygments_lexer": "ipython3",
   "version": "3.6.5"
  }
 },
 "nbformat": 4,
 "nbformat_minor": 4
}
